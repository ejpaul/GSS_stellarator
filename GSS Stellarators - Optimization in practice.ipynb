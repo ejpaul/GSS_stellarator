{
 "cells": [
  {
   "cell_type": "markdown",
   "id": "8f9d3788",
   "metadata": {},
   "source": [
    "# In this notebook, we perform an example optimization of a quasi-helical configuration. Here the field strength is expressed in terms of the Fourier harmonics with respect to the Boozer angles $(\\vartheta_B,\\varphi_B)$,\n",
    "\n",
    "# $ B(\\psi,\\vartheta_B,\\varphi_B) = \\sum_{m,n} B_{m,n}(\\psi) \\cos(m\\vartheta_B - n \\varphi_B)$\n",
    "\n",
    "# by minimizing the non-symmetric Boozer harmonics,\n",
    "\n",
    "# $ f(\\psi) = \\sum_{M n \\ne m N} \\frac{B_{m,n}(\\psi)^2}{B_{0,0}(\\psi)^2}$,\n",
    "\n",
    "# with respect to the shape of the boundary of the MHD equilibrium."
   ]
  },
  {
   "cell_type": "markdown",
   "id": "a2181e03",
   "metadata": {},
   "source": [
    "# First, we import modules"
   ]
  },
  {
   "cell_type": "code",
   "execution_count": null,
   "id": "40be8ea0",
   "metadata": {},
   "outputs": [],
   "source": [
    "from time import time\n",
    "from simsopt.util.mpi import MpiPartition\n",
    "from simsopt.mhd import Vmec, Boozer, Quasisymmetry\n",
    "from simsopt.objectives.least_squares import LeastSquaresProblem\n",
    "from simsopt.solve.mpi import least_squares_mpi_solve\n",
    "import os\n",
    "import numpy as np\n",
    "import matplotlib.pyplot as plt"
   ]
  },
  {
   "cell_type": "markdown",
   "id": "0293b17d",
   "metadata": {},
   "source": [
    "# We now initialize the equilibrium and Boozer coordinate transformation\n",
    "\n",
    "# Here the MHD equilibrium in the volume, $\\mathcal{V}$, is computed given the shape of the initial boundary, $\\mathcal{S}$,\n",
    "\n",
    "# $\\textbf{J} \\times \\textbf{B} = \\nabla p \\hspace{1cm} \\textbf{in }\\mathcal{V}$\n",
    "\n",
    "# $\\nabla \\cdot \\textbf{B} = 0 \\hspace{1cm} \\textbf{in }\\mathcal{V}$\n",
    "\n",
    "# $ \\textbf{B} \\cdot \\hat{\\textbf{n}} = 0 \\hspace{1cm} \\textbf{on }\\mathcal{S}$."
   ]
  },
  {
   "cell_type": "code",
   "execution_count": null,
   "id": "d495e68c",
   "metadata": {},
   "outputs": [],
   "source": [
    "vmec = Vmec('input.nfp4_QH_warm_start')\n",
    "# Configure quasisymmetry objective:\n",
    "qs = Quasisymmetry(Boozer(vmec),\n",
    "                   0.5,  # Radius to target\n",
    "                   1, 1)  # (M, N) you want in |B|\n",
    "booz = qs.boozer"
   ]
  },
  {
   "cell_type": "markdown",
   "id": "078c1388",
   "metadata": {},
   "source": [
    "# We perform the Boozer coordinate transformation for this initial equilibrium"
   ]
  },
  {
   "cell_type": "code",
   "execution_count": null,
   "id": "937e896b",
   "metadata": {},
   "outputs": [],
   "source": [
    "booz.run()"
   ]
  },
  {
   "cell_type": "markdown",
   "id": "67b5745d",
   "metadata": {},
   "source": [
    "# We now process the output of the Boozer coordinate transformation and equilibrium. "
   ]
  },
  {
   "cell_type": "code",
   "execution_count": null,
   "id": "731c0182",
   "metadata": {},
   "outputs": [],
   "source": [
    "nfp = booz.bx.nfp\n",
    "ntheta = 100 # number of poloidal grid points\n",
    "nphi = 400 # number of toroidal grid points\n",
    "\n",
    "# Initialize grids\n",
    "thetas = np.linspace(0,2*np.pi,ntheta)\n",
    "phis = np.linspace(0,2*np.pi,nphi)\n",
    "thetas, phis = np.meshgrid(thetas,phis)\n",
    "\n",
    "# Inverse FT the surface and magnetic field magnitude\n",
    "bmnc_b = booz.bx.bmnc_b\n",
    "bmnc_v = vmec.wout.bmnc\n",
    "rmnc_v = vmec.wout.rmnc\n",
    "zmns_v = vmec.wout.zmns\n",
    "xm_v_nyq = vmec.wout.xm_nyq\n",
    "xn_v_nyq = vmec.wout.xn_nyq\n",
    "xm_v = vmec.wout.xm\n",
    "xn_v = vmec.wout.xn\n",
    "xm_b = booz.bx.xm_b\n",
    "xn_b = booz.bx.xn_b\n",
    "phi = vmec.wout.phi\n",
    "s = phi/phi[-1]\n",
    "ds = s[1]\n",
    "s_half = s[1:] - 0.5 * ds\n",
    "\n",
    "index = np.argmin(np.abs(s_half - 0.5))\n",
    "\n",
    "bmnc_v = bmnc_v[:,index]\n",
    "rmnc_v = (rmnc_v[:,index] + rmnc_v[:,index-1])/2\n",
    "zmns_v = (zmns_v[:,index] + zmns_v[:,index-1])/2\n",
    "\n",
    "B_b = np.zeros_like(thetas)\n",
    "for im in range(len(xm_b)):\n",
    "    angle = xm_b[im] * thetas - xn_b[im] * phis\n",
    "    B_b += bmnc_b[im] * np.cos(angle)\n",
    "B_v = np.zeros_like(thetas)\n",
    "for im in range(len(xm_v_nyq)):\n",
    "    angle = xm_v_nyq[im] * thetas - xn_v_nyq[im] * phis\n",
    "    B_v += bmnc_v[im] * np.cos(angle)\n",
    "R = np.zeros_like(thetas)\n",
    "Z = np.zeros_like(thetas)\n",
    "for im in range(len(xm_v)):\n",
    "    angle = xm_v[im] * thetas - xn_v[im] * phis\n",
    "    R += rmnc_v[im] * np.cos(angle)\n",
    "    Z += zmns_v[im] * np.sin(angle)\n",
    "X = R * np.cos(phis)\n",
    "Y = R * np.sin(phis)"
   ]
  },
  {
   "cell_type": "markdown",
   "id": "324cf6f0",
   "metadata": {},
   "source": [
    "# Plot field strength in Boozer coordinates"
   ]
  },
  {
   "cell_type": "code",
   "execution_count": null,
   "id": "8f7c5cc1",
   "metadata": {},
   "outputs": [],
   "source": [
    "import matplotlib\n",
    "font = {'size'   : 16}\n",
    "matplotlib.rc('font', **font)\n",
    "\n",
    "plt.contour(phis,thetas,B_b,20)\n",
    "plt.xlim([0,2*np.pi/nfp])\n",
    "plt.xlabel(r'$\\varphi_B$')\n",
    "plt.ylabel(r'$\\vartheta_B$')\n",
    "plt.title('Magnetic field strength (initial)')\n",
    "plt.colorbar()"
   ]
  },
  {
   "cell_type": "markdown",
   "id": "b18bec8b",
   "metadata": {},
   "source": [
    "# Plot cross-sections of initial plasma boundary"
   ]
  },
  {
   "cell_type": "code",
   "execution_count": null,
   "id": "341a64c7",
   "metadata": {},
   "outputs": [],
   "source": [
    "plt.figure()\n",
    "plt.plot(R[0,:],Z[0,:])\n",
    "plt.plot(R[25,:],Z[25,:])\n",
    "plt.plot(R[50,:],Z[50,:])\n",
    "plt.plot(R[75,:],Z[75,:])\n",
    "plt.xlabel('R')\n",
    "plt.ylabel('Z')\n",
    "plt.legend([r'$\\phi = 0$',r'$\\phi = \\pi/2$',r'$\\phi=\\pi$',r'$\\phi=3\\pi/2$'],bbox_to_anchor=(1.05, 1), loc='upper left')"
   ]
  },
  {
   "cell_type": "markdown",
   "id": "360e7a8a",
   "metadata": {},
   "source": [
    "# Plot field strength on boundary"
   ]
  },
  {
   "cell_type": "code",
   "execution_count": null,
   "id": "00373a54",
   "metadata": {},
   "outputs": [],
   "source": [
    "scamap = plt.cm.ScalarMappable(cmap='inferno')\n",
    "fcolors = scamap.to_rgba(B_v)\n",
    "\n",
    "gamma = vmec.boundary.gamma()\n",
    "fig, ax = plt.subplots(subplot_kw={\"projection\": \"3d\"})\n",
    "ax._axis3don = False\n",
    "surf = ax.plot_surface(X, Y, Z, facecolors=fcolors, cmap='inferno',linewidth=0)\n",
    "fig.colorbar(scamap)"
   ]
  },
  {
   "cell_type": "markdown",
   "id": "1eb72786",
   "metadata": {},
   "source": [
    "# Optimize for quasi-helical symmetry $(M=1, N=1)$ on this surface. For brevity, we just run 10 function evaluations. (modify max_nfev to increase this)\n",
    "\n",
    "# Here the boundary of the plasma is defined by,\n",
    "\n",
    "# $R(\\theta,\\phi) = \\sum_{m,n} R_{m,n} \\cos(m \\theta - n \\phi)$\n",
    "\n",
    "# $Z(\\theta,\\phi) = \\sum_{m,n} Z_{m,n} \\sin(m \\theta - n \\phi)$,\n",
    "\n",
    "# where $\\phi$ is the cylindrical toroidal angle and $\\theta$ is a parameterization poloidal angle. We take $\\{R_{m,n},Z_{m,n}\\}$ to be our optimization parameters.\n",
    "\n",
    "# In this example, we only optimize over the harmonics with $|n|, m\\le 2$, to minimize the non-symmetric Boozer harmonics on the $\\psi = \\psi_0/2$ surface, where $\\psi_0$ is the toroidal flux of the outer boundary. We also fix the $R_{0,0}$ parameter to fix one length scale of the equilibrium.\n",
    "\n",
    "# This will take about 15 minutes "
   ]
  },
  {
   "cell_type": "code",
   "execution_count": null,
   "id": "866e7653",
   "metadata": {},
   "outputs": [],
   "source": [
    "mpi = MpiPartition(25)\n",
    "# This problem has 24 degrees of freedom, so we can use 24 + 1 = 25\n",
    "# concurrent function evaluations for 1-sided finite difference\n",
    "# gradients.\n",
    "\n",
    "# Define parameter space:\n",
    "surf = vmec.boundary\n",
    "surf.all_fixed()\n",
    "max_mode = 2\n",
    "surf.fixed_range(mmin=0, mmax=max_mode, nmin=-max_mode, nmax=max_mode, fixed=False)\n",
    "surf.set_fixed(\"rc(0,0)\")  # Major radius\n",
    "\n",
    "# Define objective function as a least-squares problem\n",
    "prob = LeastSquaresProblem([(vmec.aspect, 7, 1),\n",
    "                            (qs, 0, 1)],\n",
    "                           rel_step=1e-3, abs_step=1e-5)\n",
    "\n",
    "time1 = time()\n",
    "least_squares_mpi_solve(prob, mpi, grad=True, max_nfev=10)\n",
    "time2 = time()\n",
    "print('Time for optimization: ',time2-time1,' seconds.')"
   ]
  },
  {
   "cell_type": "markdown",
   "id": "734823b8",
   "metadata": {},
   "source": [
    "# Process output of optimized equilibrium"
   ]
  },
  {
   "cell_type": "code",
   "execution_count": null,
   "id": "f6bdd8d9",
   "metadata": {},
   "outputs": [],
   "source": [
    "bmnc_b = booz.bx.bmnc_b\n",
    "bmnc_v = vmec.wout.bmnc\n",
    "rmnc_v = vmec.wout.rmnc\n",
    "zmns_v = vmec.wout.zmns\n",
    "\n",
    "bmnc_v = bmnc_v[:,index]\n",
    "rmnc_v = (rmnc_v[:,index] + rmnc_v[:,index-1])/2\n",
    "zmns_v = (zmns_v[:,index] + zmns_v[:,index-1])/2\n",
    "\n",
    "B_b = np.zeros_like(thetas)\n",
    "for im in range(len(xm_b)):\n",
    "    angle = xm_b[im] * thetas - xn_b[im] * phis\n",
    "    B_b += bmnc_b[im] * np.cos(angle)\n",
    "B_v = np.zeros_like(thetas)\n",
    "for im in range(len(xm_v_nyq)):\n",
    "    angle = xm_v_nyq[im] * thetas - xn_v_nyq[im] * phis\n",
    "    B_v += bmnc_v[im] * np.cos(angle)\n",
    "R = np.zeros_like(thetas)\n",
    "Z = np.zeros_like(thetas)\n",
    "for im in range(len(xm_v)):\n",
    "    angle = xm_v[im] * thetas - xn_v[im] * phis\n",
    "    R += rmnc_v[im] * np.cos(angle)\n",
    "    Z += zmns_v[im] * np.sin(angle)\n",
    "X = R * np.cos(phis)\n",
    "Y = R * np.sin(phis)\n",
    "\n",
    "import matplotlib\n",
    "font = {'size'   : 16}\n",
    "matplotlib.rc('font', **font)\n",
    "\n",
    "plt.contour(phis,thetas,B_b,20)\n",
    "plt.xlim([0,2*np.pi/nfp])\n",
    "plt.xlabel(r'$\\varphi_B$')\n",
    "plt.ylabel(r'$\\vartheta_B$')\n",
    "plt.title('Magnetic field strength (final)')\n",
    "plt.colorbar()\n",
    "\n",
    "plt.figure()\n",
    "plt.plot(R[0,:],Z[0,:])\n",
    "plt.plot(R[25,:],Z[25,:])\n",
    "plt.plot(R[50,:],Z[50,:])\n",
    "plt.plot(R[75,:],Z[75,:])\n",
    "plt.xlabel('R')\n",
    "plt.ylabel('Z')\n",
    "plt.legend([r'$\\phi = 0$',r'$\\phi = \\pi/2$',r'$\\phi=\\pi$',r'$\\phi=3\\pi/2$'],bbox_to_anchor=(1.05, 1), loc='upper left')\n",
    "\n",
    "scamap = plt.cm.ScalarMappable(cmap='inferno')\n",
    "fcolors = scamap.to_rgba(B_v)\n",
    "\n",
    "gamma = vmec.boundary.gamma()\n",
    "fig, ax = plt.subplots(subplot_kw={\"projection\": \"3d\"})\n",
    "ax._axis3don = False\n",
    "surf = ax.plot_surface(X, Y, Z, facecolors=fcolors, cmap='inferno',linewidth=0)\n",
    "fig.colorbar(scamap)"
   ]
  }
 ],
 "metadata": {
  "kernelspec": {
   "display_name": "Python 3",
   "language": "python",
   "name": "python3"
  },
  "language_info": {
   "codemirror_mode": {
    "name": "ipython",
    "version": 3
   },
   "file_extension": ".py",
   "mimetype": "text/x-python",
   "name": "python",
   "nbconvert_exporter": "python",
   "pygments_lexer": "ipython3",
   "version": "3.8.5"
  }
 },
 "nbformat": 4,
 "nbformat_minor": 5
}
